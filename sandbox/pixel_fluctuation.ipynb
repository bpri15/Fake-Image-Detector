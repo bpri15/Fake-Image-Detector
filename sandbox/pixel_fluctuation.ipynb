{
 "cells": [
  {
   "cell_type": "code",
   "execution_count": 1,
   "metadata": {},
   "outputs": [],
   "source": [
    "import numpy as np\n",
    "from patch_generator import smash_n_reconstruct\n",
    "import filters as f\n",
    "import cv2\n",
    "from matplotlib import pyplot as plt\n",
    "import pandas as pd\n",
    "import os\n",
    "import concurrent.futures\n",
    "from tqdm import tqdm\n",
    "import random\n",
    "import gc"
   ]
  },
  {
   "cell_type": "markdown",
   "metadata": {},
   "source": [
    "### Objective: \n",
    "Identify features to extract from rich texture and poor texture images"
   ]
  },
  {
   "cell_type": "markdown",
   "metadata": {},
   "source": [
    "1. Loading image paths:"
   ]
  },
  {
   "cell_type": "code",
   "execution_count": 2,
   "metadata": {},
   "outputs": [
    {
     "data": {
      "text/plain": [
       "['9-250992346-230466.jpg', '9-250992346-255116.jpg']"
      ]
     },
     "execution_count": 2,
     "metadata": {},
     "output_type": "execute_result"
    }
   ],
   "source": [
    "path_ai = './test_imgs/AI_SD_ukiyo-e/'\n",
    "ai_img = os.listdir(path_ai)\n",
    "ai_img[:2]"
   ]
  },
  {
   "cell_type": "code",
   "execution_count": 3,
   "metadata": {},
   "outputs": [
    {
     "data": {
      "text/plain": [
       "['adachi-ginko_114.jpg', 'adachi-ginko_116.jpg']"
      ]
     },
     "execution_count": 3,
     "metadata": {},
     "output_type": "execute_result"
    }
   ],
   "source": [
    "path_real = './test_imgs/ukiyo_e'\n",
    "real_img = os.listdir(path_real)\n",
    "real_img[:2]"
   ]
  },
  {
   "cell_type": "markdown",
   "metadata": {},
   "source": [
    "**Pixel Fluctuation Degree**:\n",
    "\n",
    "$$\n",
    " f(PATCH) = \\sum_{i=1}^{M}\\sum_{j=1}^{M-1}(|x_{i,j}-x_{i,j+1}|) + \\sum_{i=1}^{M-1}\\sum_{j=1}^{M}(|x_{i,j}-x_{i+1,j}|) \n",
    "$$\n",
    "$$\n",
    " + \\sum_{i=1}^{M-1}\\sum_{j=1}^{M-1}(|x_{i,j}-x_{i+1,j+1}|) + \\sum_{i=1}^{M-1}\\sum_{j=1}^{M-1}(|x_{i,j}-x_{i,j+1}|)\n",
    "$$"
   ]
  },
  {
   "cell_type": "code",
   "execution_count": 4,
   "metadata": {},
   "outputs": [],
   "source": [
    "def get_l1(v,x,y):\n",
    "    l1=0\n",
    "    # 1 to m, 1 to m-1\n",
    "    for i in range(0,y-1):\n",
    "        for j  in range(0,x):\n",
    "            l1+=abs(v[j][i]-v[j][i+1])\n",
    "    return l1\n",
    "\n",
    "def get_l2(v,x,y):\n",
    "    l2=0\n",
    "    # 1 to m-1, 1 to m\n",
    "    for i in range(0,y):\n",
    "        for j  in range(0,x-1):\n",
    "            l2+=abs(v[j][i]-v[j+1][i])\n",
    "    return l2\n",
    "\n",
    "def get_l3l4(v,x,y):\n",
    "    l3=l4=0\n",
    "    # 1 to m-1, 1 to m-1\n",
    "    for i in range(0,y-1):\n",
    "        for j  in range(0,x-1):\n",
    "            l3+=abs(v[j][i]-v[j+1][i+1])\n",
    "            l4+=abs(v[j+1][i]-v[j][i+1])\n",
    "\n",
    "    return l3+l4\n",
    "\n",
    "def pixel_fluctuation(patch:np.array)->int:\n",
    "    x,y = patch.shape\n",
    "    l1=l2=l3l4=0\n",
    "    \n",
    "    with concurrent.futures.ThreadPoolExecutor(max_workers=3) as executor:\n",
    "        future_l1 = executor.submit(get_l1,patch,x,y)\n",
    "        future_l2 = executor.submit(get_l2,patch,x,y)\n",
    "        future_l3l4 = executor.submit(get_l3l4,patch,x,y)\n",
    "\n",
    "        l1 = future_l1.result()\n",
    "        l2 = future_l2.result()\n",
    "        l3l4 = future_l3l4.result()\n",
    "\n",
    "    return  l1+l2+l3l4"
   ]
  },
  {
   "cell_type": "code",
   "execution_count": 5,
   "metadata": {},
   "outputs": [],
   "source": [
    "y = []\n",
    "X = []"
   ]
  },
  {
   "cell_type": "markdown",
   "metadata": {},
   "source": [
    "## Feature:\n",
    "We get the ratio of:\n",
    "\n",
    "_pixel_fluctuation_(Rich Texture patch) / _pixel_fluctuation_(Poor Texture patch)"
   ]
  },
  {
   "cell_type": "code",
   "execution_count": 6,
   "metadata": {},
   "outputs": [
    {
     "name": "stderr",
     "output_type": "stream",
     "text": [
      "  0%|          | 0/1500 [00:00<?, ?it/s]"
     ]
    },
    {
     "name": "stderr",
     "output_type": "stream",
     "text": [
      "100%|██████████| 1500/1500 [12:55<00:00,  1.93it/s]\n"
     ]
    }
   ],
   "source": [
    "pb = tqdm(total=1500)\n",
    "for img_name in real_img[:1500]:\n",
    "    rt,pt = smash_n_reconstruct(input_path=os.path.join(path_real,img_name))\n",
    "    rt = np.asarray((cv2.cvtColor(f.apply_all_filters(rt),cv2.COLOR_RGB2GRAY))).astype(np.int32)\n",
    "    pt = np.asarray((cv2.cvtColor(f.apply_all_filters(pt),cv2.COLOR_RGB2GRAY))).astype(np.int32)\n",
    "    X.append((pixel_fluctuation(pt)/pixel_fluctuation(rt)))\n",
    "    y.append(0)\n",
    "    pb.update(1)\n",
    "pb.close()"
   ]
  },
  {
   "cell_type": "code",
   "execution_count": 7,
   "metadata": {},
   "outputs": [
    {
     "name": "stderr",
     "output_type": "stream",
     "text": [
      "100%|██████████| 1500/1500 [15:58<00:00,  1.56it/s]\n"
     ]
    }
   ],
   "source": [
    "pb = tqdm(total=1500)\n",
    "for img_name in ai_img[:1500]:\n",
    "    rt,pt = smash_n_reconstruct(input_path=os.path.join(path_ai,img_name))\n",
    "    rt = np.asarray((cv2.cvtColor(f.apply_all_filters(rt),cv2.COLOR_RGB2GRAY))).astype(np.int32)\n",
    "    pt = np.asarray((cv2.cvtColor(f.apply_all_filters(pt),cv2.COLOR_RGB2GRAY))).astype(np.int32)\n",
    "    X.append((pixel_fluctuation(pt)/pixel_fluctuation(rt)))\n",
    "    y.append(1)\n",
    "    pb.update(1)\n",
    "pb.close()"
   ]
  },
  {
   "cell_type": "code",
   "execution_count": 8,
   "metadata": {},
   "outputs": [],
   "source": [
    "df = pd.DataFrame()"
   ]
  },
  {
   "cell_type": "code",
   "execution_count": 9,
   "metadata": {},
   "outputs": [],
   "source": [
    "df['pixel_fluctuation_ratio'] = X\n",
    "df['is_ai'] = y"
   ]
  },
  {
   "cell_type": "code",
   "execution_count": 10,
   "metadata": {},
   "outputs": [
    {
     "data": {
      "text/plain": [
       "(0.5767728482538516, 0.5863453499091266)"
      ]
     },
     "execution_count": 10,
     "metadata": {},
     "output_type": "execute_result"
    }
   ],
   "source": [
    "rmean = df[df['is_ai']==0]['pixel_fluctuation_ratio'].mean()\n",
    "df[df['is_ai']==0]['pixel_fluctuation_ratio'].mean(), df[df['is_ai']==0]['pixel_fluctuation_ratio'].median()"
   ]
  },
  {
   "cell_type": "code",
   "execution_count": 11,
   "metadata": {},
   "outputs": [
    {
     "data": {
      "text/plain": [
       "(0.6720626034703361, 0.6702150812436931)"
      ]
     },
     "execution_count": 11,
     "metadata": {},
     "output_type": "execute_result"
    }
   ],
   "source": [
    "aimean = df[df['is_ai']==1]['pixel_fluctuation_ratio'].mean()\n",
    "df[df['is_ai']==1]['pixel_fluctuation_ratio'].mean(), df[df['is_ai']==1]['pixel_fluctuation_ratio'].median()"
   ]
  },
  {
   "cell_type": "code",
   "execution_count": 12,
   "metadata": {},
   "outputs": [
    {
     "data": {
      "text/plain": [
       "(0.02079725675468037, 0.0082855566698935)"
      ]
     },
     "execution_count": 12,
     "metadata": {},
     "output_type": "execute_result"
    }
   ],
   "source": [
    "df[df['is_ai']==0]['pixel_fluctuation_ratio'].var(),df[df['is_ai']==1]['pixel_fluctuation_ratio'].var()"
   ]
  },
  {
   "cell_type": "code",
   "execution_count": 13,
   "metadata": {},
   "outputs": [
    {
     "name": "stderr",
     "output_type": "stream",
     "text": [
      "  0%|          | 0/100 [00:00<?, ?it/s]"
     ]
    },
    {
     "name": "stderr",
     "output_type": "stream",
     "text": [
      "100%|██████████| 100/100 [00:54<00:00,  1.85it/s]"
     ]
    },
    {
     "name": "stdout",
     "output_type": "stream",
     "text": [
      "1.0\n"
     ]
    },
    {
     "name": "stderr",
     "output_type": "stream",
     "text": [
      "\n"
     ]
    }
   ],
   "source": [
    "ai_true = 0\n",
    "for i in tqdm(range(100)):\n",
    "    img_name = random.choice(ai_img[1499:])\n",
    "    rt,pt = smash_n_reconstruct(input_path=os.path.join(path_ai,img_name))\n",
    "    rt = np.asarray((cv2.cvtColor(f.apply_all_filters(rt),cv2.COLOR_RGB2GRAY))).astype(np.int32)\n",
    "    pt = np.asarray((cv2.cvtColor(f.apply_all_filters(pt),cv2.COLOR_RGB2GRAY))).astype(np.int32)\n",
    "    pr = pixel_fluctuation(pt)/pixel_fluctuation(pt)\n",
    "    if(abs(pr-rmean)>abs(pr-aimean)):\n",
    "        ai_true+=1\n",
    "\n",
    "print(ai_true/100)"
   ]
  },
  {
   "cell_type": "code",
   "execution_count": 14,
   "metadata": {},
   "outputs": [
    {
     "name": "stderr",
     "output_type": "stream",
     "text": [
      "100%|██████████| 100/100 [00:53<00:00,  1.85it/s]"
     ]
    },
    {
     "name": "stdout",
     "output_type": "stream",
     "text": [
      "0.64\n"
     ]
    },
    {
     "name": "stderr",
     "output_type": "stream",
     "text": [
      "\n"
     ]
    }
   ],
   "source": [
    "real_true = 0\n",
    "for i in tqdm(range(100)):\n",
    "    img_name = random.choice(real_img[1499:])\n",
    "    rt,pt = smash_n_reconstruct(input_path=os.path.join(path_real,img_name))\n",
    "    rt = np.asarray((cv2.cvtColor(f.apply_all_filters(rt),cv2.COLOR_RGB2GRAY))).astype(np.int32)\n",
    "    pt = np.asarray((cv2.cvtColor(f.apply_all_filters(pt),cv2.COLOR_RGB2GRAY))).astype(np.int32)\n",
    "    pr = pixel_fluctuation(pt)/pixel_fluctuation(rt)\n",
    "    if(abs(pr-rmean)<abs(pr-aimean)):\n",
    "        real_true+=1\n",
    "\n",
    "print(real_true/100)"
   ]
  },
  {
   "cell_type": "code",
   "execution_count": 15,
   "metadata": {},
   "outputs": [
    {
     "data": {
      "text/plain": [
       "0.5982587709943759"
      ]
     },
     "execution_count": 15,
     "metadata": {},
     "output_type": "execute_result"
    }
   ],
   "source": [
    "rt,pt = smash_n_reconstruct(input_path='./test_imgs/fake.png')\n",
    "rt = np.asarray((cv2.cvtColor(f.apply_all_filters(rt),cv2.COLOR_RGB2GRAY))).astype(np.int32)\n",
    "pt = np.asarray((cv2.cvtColor(f.apply_all_filters(pt),cv2.COLOR_RGB2GRAY))).astype(np.int32)\n",
    "pixel_fluctuation(pt)/pixel_fluctuation(rt)"
   ]
  },
  {
   "cell_type": "code",
   "execution_count": 16,
   "metadata": {},
   "outputs": [
    {
     "data": {
      "text/plain": [
       "(5000, 5308)"
      ]
     },
     "execution_count": 16,
     "metadata": {},
     "output_type": "execute_result"
    }
   ],
   "source": [
    "len(real_img), len(ai_img)"
   ]
  },
  {
   "cell_type": "code",
   "execution_count": 17,
   "metadata": {},
   "outputs": [
    {
     "data": {
      "text/plain": [
       "9"
      ]
     },
     "execution_count": 17,
     "metadata": {},
     "output_type": "execute_result"
    }
   ],
   "source": [
    "gc.collect()"
   ]
  }
 ],
 "metadata": {
  "kernelspec": {
   "display_name": "Python 3",
   "language": "python",
   "name": "python3"
  },
  "language_info": {
   "codemirror_mode": {
    "name": "ipython",
    "version": 3
   },
   "file_extension": ".py",
   "mimetype": "text/x-python",
   "name": "python",
   "nbconvert_exporter": "python",
   "pygments_lexer": "ipython3",
   "version": "3.10.11"
  }
 },
 "nbformat": 4,
 "nbformat_minor": 2
}
